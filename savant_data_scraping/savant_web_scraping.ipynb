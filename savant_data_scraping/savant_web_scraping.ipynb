{
 "cells": [
  {
   "cell_type": "code",
   "execution_count": null,
   "metadata": {},
   "outputs": [],
   "source": [
    "help(webdriver.Chrome)"
   ]
  },
  {
   "cell_type": "code",
   "execution_count": 44,
   "metadata": {},
   "outputs": [],
   "source": [
    "from selenium import webdriver\n",
    "from selenium.webdriver.support.ui import WebDriverWait\n",
    "from selenium.webdriver.support import expected_conditions as EC\n",
    "from selenium.webdriver.common.by import By\n",
    "from selenium.webdriver.support.ui import Select\n",
    "import time\n",
    "import pandas as pd"
   ]
  },
  {
   "cell_type": "code",
   "execution_count": 59,
   "metadata": {},
   "outputs": [
    {
     "name": "stdout",
     "output_type": "stream",
     "text": [
      "     #       Pitch Type           Result Pitch Vel (MPH)  Spin VBreak (In.)  \\\n",
      "0    1         Splitter    Called Strike            86.6  1952           29   \n",
      "1    2         Splitter             Ball            85.2  1714           30   \n",
      "2    3  4-Seam Fastball             Ball            93.1  2478           12   \n",
      "3    4  4-Seam Fastball    Called Strike            93.1  2499           10   \n",
      "4    5  4-Seam Fastball         Foul Tip            93.6  2453           10   \n",
      "..  ..              ...              ...             ...   ...          ...   \n",
      "377  2         Changeup  Swinging Strike            81.8  1315           38   \n",
      "378  3         Changeup             Ball            82.1  1368           40   \n",
      "379  4  4-Seam Fastball             Foul            93.3  2138           13   \n",
      "380  5  4-Seam Fastball             Foul            93.5  2081           13   \n",
      "381  6         Changeup  In play, out(s)            82.3  1509           42   \n",
      "\n",
      "       HBreak (In.)                                       AT_BAT  \n",
      "0    →           15  →    AB #95 - Shelby Miller vs. Pete Alonso  \n",
      "1    →           18  →    AB #95 - Shelby Miller vs. Pete Alonso  \n",
      "2    →           10  →    AB #95 - Shelby Miller vs. Pete Alonso  \n",
      "3    →            8  →    AB #95 - Shelby Miller vs. Pete Alonso  \n",
      "4    →            9  →    AB #95 - Shelby Miller vs. Pete Alonso  \n",
      "..  ..          ... ..                                       ...  \n",
      "377  →           16  →  AB #1 - Adrian Houser vs. Parker Meadows  \n",
      "378  →           21  →  AB #1 - Adrian Houser vs. Parker Meadows  \n",
      "379  →           10  →  AB #1 - Adrian Houser vs. Parker Meadows  \n",
      "380  →           14  →  AB #1 - Adrian Houser vs. Parker Meadows  \n",
      "381  →           16  →  AB #1 - Adrian Houser vs. Parker Meadows  \n",
      "\n",
      "[382 rows x 10 columns]\n"
     ]
    }
   ],
   "source": [
    "# Setup WebDriver (example with Chrome)\n",
    "driver = webdriver.Chrome()\n",
    "\n",
    "driver.get(\"\"\"https://baseballsavant.mlb.com/gamefeed?date=4/4/2024&gamePk=745844&chartType=pitch&legendType=pitchName&playerType=\n",
    "           pitcher&inning=&count=&pitchHand=&batSide=&descFilter=&ptFilter=&resultFilter=&hf=liveAB&sportId=1#745844\"\"\")\n",
    "\n",
    "# Wait up to 10 seconds for the dropdown to be available\n",
    "dropdown = WebDriverWait(driver, 10).until(\n",
    "    EC.presence_of_element_located((By.ID, \"liveAB-matchups_745844\"))\n",
    ")\n",
    "\n",
    "# Now that we've waited for it, we can proceed as before\n",
    "select = Select(dropdown)\n",
    "\n",
    "TEMP_DATA = []\n",
    "\n",
    "num_options = len(select.options)\n",
    "\n",
    "for index in range(num_options):\n",
    "    # Re-find the dropdown and recreate the Select object each iteration\n",
    "    dropdown = WebDriverWait(driver, 10).until(EC.presence_of_element_located((By.ID, \"liveAB-matchups_745844\")))\n",
    "    select = Select(dropdown)\n",
    "    \n",
    "    select.select_by_index(index)\n",
    "    option_text = select.options[index].text\n",
    "    \n",
    "    header = WebDriverWait(driver, 10).until(\n",
    "    EC.presence_of_element_located((By.ID, 'liveABTable_745844_th-0'))\n",
    ")\n",
    "\n",
    "    # Now, use the found header element to navigate to the ancestor table\n",
    "    table = header.find_element(By.XPATH, './ancestor::table')\n",
    "\n",
    "    headers = [th.text for th in table.find_element(By.TAG_NAME, 'thead').find_elements(By.TAG_NAME, 'th')]\n",
    "\n",
    "    PITCH_DATA = []\n",
    "    # Extract data from the table\n",
    "    # Iterate over each row in the tbody (assuming there's only one tbody)\n",
    "    for row in table.find_element(By.TAG_NAME, 'tbody').find_elements(By.TAG_NAME, 'tr'):\n",
    "        # For each row, extract each cell's text\n",
    "        PITCHES = {headers[index]: cell.text for index, cell in enumerate(row.find_elements(By.TAG_NAME, 'td'))}\n",
    "        PITCH_DATA.append(PITCHES)\n",
    "\n",
    "    df_temp = pd.DataFrame(PITCH_DATA, columns=headers)\n",
    "    df_temp['AT_BAT'] = option_text  # Add the dropdown option as a column\n",
    "    TEMP_DATA.append(df_temp)\n",
    "\n",
    "MATCHUPS = pd.concat(TEMP_DATA, ignore_index=True)\n",
    "print(MATCHUPS)\n",
    "\n",
    "driver.quit()\n"
   ]
  },
  {
   "cell_type": "code",
   "execution_count": 60,
   "metadata": {},
   "outputs": [],
   "source": [
    "MATCHUPS.to_csv('2024_04_04_DET_NYM.csv', index=False)\n"
   ]
  },
  {
   "cell_type": "code",
   "execution_count": 62,
   "metadata": {},
   "outputs": [],
   "source": [
    "CASEY_MIZE_DET_NYM_2024_04_04 = MATCHUPS[MATCHUPS['AT_BAT'].str.contains('Casey Mize')]\n",
    "CASEY_MIZE_DET_NYM_2024_04_04 = CASEY_MIZE_DET_NYM_2024_04_04[['Pitch Type', '#', 'AT_BAT']]\n",
    "CASEY_MIZE_DET_NYM_2024_04_04.to_csv('CASEY_MIZE_DET_NYM_2024_04_04.csv', index=False)"
   ]
  }
 ],
 "metadata": {
  "kernelspec": {
   "display_name": "myenv",
   "language": "python",
   "name": "python3"
  },
  "language_info": {
   "codemirror_mode": {
    "name": "ipython",
    "version": 3
   },
   "file_extension": ".py",
   "mimetype": "text/x-python",
   "name": "python",
   "nbconvert_exporter": "python",
   "pygments_lexer": "ipython3",
   "version": "3.8.18"
  }
 },
 "nbformat": 4,
 "nbformat_minor": 2
}
