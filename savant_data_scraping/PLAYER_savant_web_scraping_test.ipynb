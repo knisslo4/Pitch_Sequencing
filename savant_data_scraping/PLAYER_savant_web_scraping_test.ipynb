{
 "cells": [
  {
   "cell_type": "code",
   "execution_count": 10,
   "metadata": {},
   "outputs": [],
   "source": [
    "from selenium import webdriver\n",
    "from selenium.webdriver.support.ui import WebDriverWait\n",
    "from selenium.webdriver.support import expected_conditions as EC\n",
    "from selenium.webdriver.common.by import By\n",
    "from selenium.webdriver.support.ui import Select\n",
    "from selenium.webdriver.common.keys import Keys\n",
    "import time\n",
    "import pandas as pd"
   ]
  },
  {
   "cell_type": "code",
   "execution_count": 11,
   "metadata": {},
   "outputs": [],
   "source": [
    "driver = webdriver.Chrome()\n",
    "\n",
    "driver.get(\"https://baseballsavant.mlb.com/\")\n"
   ]
  },
  {
   "cell_type": "code",
   "execution_count": 12,
   "metadata": {},
   "outputs": [],
   "source": [
    "PLAYER_SEARCH_INPUT = WebDriverWait(driver, 10).until(EC.presence_of_element_located((By.ID, \"player-auto-complete\")))\n",
    "\n",
    "PLAYER_SEARCH_INPUT.clear()\n",
    "\n",
    "PLAYER_SEARCH_INPUT.send_keys(\"Michael Lorenzen\")\n",
    "\n",
    "PLAYER_SEARCH_INPUT.send_keys(Keys.RETURN)\n"
   ]
  },
  {
   "cell_type": "code",
   "execution_count": 13,
   "metadata": {},
   "outputs": [
    {
     "ename": "TimeoutException",
     "evalue": "Message: \nStacktrace:\n\tGetHandleVerifier [0x00007FF7D2087072+63090]\n\t(No symbol) [0x00007FF7D1FF2CC2]\n\t(No symbol) [0x00007FF7D1E8EC65]\n\t(No symbol) [0x00007FF7D1ED499D]\n\t(No symbol) [0x00007FF7D1ED4ADC]\n\t(No symbol) [0x00007FF7D1F15B37]\n\t(No symbol) [0x00007FF7D1EF701F]\n\t(No symbol) [0x00007FF7D1F13412]\n\t(No symbol) [0x00007FF7D1EF6D83]\n\t(No symbol) [0x00007FF7D1EC83A8]\n\t(No symbol) [0x00007FF7D1EC9441]\n\tGetHandleVerifier [0x00007FF7D24825CD+4238285]\n\tGetHandleVerifier [0x00007FF7D24BF72D+4488493]\n\tGetHandleVerifier [0x00007FF7D24B7A0F+4456463]\n\tGetHandleVerifier [0x00007FF7D21605B6+953270]\n\t(No symbol) [0x00007FF7D1FFE58F]\n\t(No symbol) [0x00007FF7D1FF9264]\n\t(No symbol) [0x00007FF7D1FF939B]\n\t(No symbol) [0x00007FF7D1FE9BD4]\n\tBaseThreadInitThunk [0x00007FFE2F357344+20]\n\tRtlUserThreadStart [0x00007FFE2F8A26B1+33]\n",
     "output_type": "error",
     "traceback": [
      "\u001b[1;31m---------------------------------------------------------------------------\u001b[0m",
      "\u001b[1;31mTimeoutException\u001b[0m                          Traceback (most recent call last)",
      "Cell \u001b[1;32mIn[13], line 1\u001b[0m\n\u001b[1;32m----> 1\u001b[0m GAME_LOGS \u001b[38;5;241m=\u001b[39m \u001b[43mWebDriverWait\u001b[49m\u001b[43m(\u001b[49m\u001b[43mdriver\u001b[49m\u001b[43m,\u001b[49m\u001b[43m \u001b[49m\u001b[38;5;241;43m10\u001b[39;49m\u001b[43m)\u001b[49m\u001b[38;5;241;43m.\u001b[39;49m\u001b[43muntil\u001b[49m\u001b[43m(\u001b[49m\u001b[43mEC\u001b[49m\u001b[38;5;241;43m.\u001b[39;49m\u001b[43mpresence_of_element_located\u001b[49m\u001b[43m(\u001b[49m\u001b[43m(\u001b[49m\u001b[43mBy\u001b[49m\u001b[38;5;241;43m.\u001b[39;49m\u001b[43mID\u001b[49m\u001b[43m,\u001b[49m\u001b[43m \u001b[49m\u001b[38;5;124;43m\"\u001b[39;49m\u001b[38;5;124;43mtab_gamelogs\u001b[39;49m\u001b[38;5;124;43m\"\u001b[39;49m\u001b[43m)\u001b[49m\u001b[43m)\u001b[49m\u001b[43m)\u001b[49m\n\u001b[0;32m      3\u001b[0m GAME_LOGS\u001b[38;5;241m.\u001b[39mclick()\n",
      "File \u001b[1;32mc:\\Users\\logan.kniss\\AppData\\Local\\anaconda3\\envs\\myenv\\lib\\site-packages\\selenium\\webdriver\\support\\wait.py:105\u001b[0m, in \u001b[0;36mWebDriverWait.until\u001b[1;34m(self, method, message)\u001b[0m\n\u001b[0;32m    103\u001b[0m     \u001b[38;5;28;01mif\u001b[39;00m time\u001b[38;5;241m.\u001b[39mmonotonic() \u001b[38;5;241m>\u001b[39m end_time:\n\u001b[0;32m    104\u001b[0m         \u001b[38;5;28;01mbreak\u001b[39;00m\n\u001b[1;32m--> 105\u001b[0m \u001b[38;5;28;01mraise\u001b[39;00m TimeoutException(message, screen, stacktrace)\n",
      "\u001b[1;31mTimeoutException\u001b[0m: Message: \nStacktrace:\n\tGetHandleVerifier [0x00007FF7D2087072+63090]\n\t(No symbol) [0x00007FF7D1FF2CC2]\n\t(No symbol) [0x00007FF7D1E8EC65]\n\t(No symbol) [0x00007FF7D1ED499D]\n\t(No symbol) [0x00007FF7D1ED4ADC]\n\t(No symbol) [0x00007FF7D1F15B37]\n\t(No symbol) [0x00007FF7D1EF701F]\n\t(No symbol) [0x00007FF7D1F13412]\n\t(No symbol) [0x00007FF7D1EF6D83]\n\t(No symbol) [0x00007FF7D1EC83A8]\n\t(No symbol) [0x00007FF7D1EC9441]\n\tGetHandleVerifier [0x00007FF7D24825CD+4238285]\n\tGetHandleVerifier [0x00007FF7D24BF72D+4488493]\n\tGetHandleVerifier [0x00007FF7D24B7A0F+4456463]\n\tGetHandleVerifier [0x00007FF7D21605B6+953270]\n\t(No symbol) [0x00007FF7D1FFE58F]\n\t(No symbol) [0x00007FF7D1FF9264]\n\t(No symbol) [0x00007FF7D1FF939B]\n\t(No symbol) [0x00007FF7D1FE9BD4]\n\tBaseThreadInitThunk [0x00007FFE2F357344+20]\n\tRtlUserThreadStart [0x00007FFE2F8A26B1+33]\n"
     ]
    }
   ],
   "source": [
    "GAME_LOGS = WebDriverWait(driver, 10).until(EC.presence_of_element_located((By.ID, \"tab_gamelogs\")))\n",
    "\n",
    "GAME_LOGS.click()"
   ]
  },
  {
   "cell_type": "code",
   "execution_count": null,
   "metadata": {},
   "outputs": [],
   "source": [
    "GAME_DATE = WebDriverWait(driver, 10).until(EC.presence_of_element_located((By.LINK_TEXT, \"2023-04-15\")))\n",
    "\n",
    "original_window = driver.current_window_handle\n",
    "\n",
    "GAME_DATE.click()\n",
    "\n",
    "WebDriverWait.until(lambda driver: len(driver.window_handles) > 1)\n",
    "\n",
    "new_window = [window for window in driver.window_handles if window != original_window][0]\n",
    "driver.switch_to.window(new_window)"
   ]
  },
  {
   "cell_type": "code",
   "execution_count": null,
   "metadata": {},
   "outputs": [],
   "source": [
    "HIGHLIGHT_GAME = WebDriverWait(driver, 10).until(EC.presence_of_element_located((By.CLASS_NAME, \"flex.highlight-game\")))\n",
    "\n",
    "HIGHLIGHT_GAME.click()"
   ]
  },
  {
   "cell_type": "code",
   "execution_count": null,
   "metadata": {},
   "outputs": [],
   "source": [
    "MATCHUPS = WebDriverWait(driver, 10).until(EC.presence_of_element_located((By.ID, \"button_liveAB_718571\")))\n",
    "\n",
    "MATCHUPS.click()"
   ]
  },
  {
   "cell_type": "code",
   "execution_count": null,
   "metadata": {},
   "outputs": [],
   "source": [
    "DROPDOWN = WebDriverWait(driver, 10).until(EC.presence_of_element_located((By.CSS_SELECTOR, \"[id*='liveAB-matchups_']\")))\n",
    "\n",
    "select = Select(DROPDOWN)\n",
    "\n",
    "TEMP_DATA = []\n",
    "\n",
    "num_options = len(select.options)\n",
    "\n",
    "for index in range(num_options):\n",
    "    DROPDOWN = WebDriverWait(driver, 10).until(EC.presence_of_element_located((By.CSS_SELECTOR, \"[id*='liveAB-matchups_']\")))\n",
    "    select = Select(DROPDOWN)\n",
    "    \n",
    "    select.select_by_index(index)\n",
    "    option_text = select.options[index].text\n",
    "    \n",
    "    header = WebDriverWait(driver, 10).until(EC.presence_of_element_located((By.XPATH, \"//*[starts-with(@id, 'liveABTable_') and contains(@id, '_th-')]\")))\n",
    "\n",
    "    table = header.find_element(By.XPATH, './ancestor::table')\n",
    "\n",
    "    headers = [th.text for th in table.find_element(By.TAG_NAME, 'thead').find_elements(By.TAG_NAME, 'th')]\n",
    "\n",
    "    PITCH_DATA = []\n",
    "\n",
    "    for row in table.find_element(By.TAG_NAME, 'tbody').find_elements(By.TAG_NAME, 'tr'):\n",
    "        PITCHES = {headers[index]: cell.text for index, cell in enumerate(row.find_elements(By.TAG_NAME, 'td'))}\n",
    "        PITCH_DATA.append(PITCHES)\n",
    "\n",
    "    df_temp = pd.DataFrame(PITCH_DATA, columns=headers)\n",
    "    df_temp['AT_BAT'] = option_text\n",
    "    TEMP_DATA.append(df_temp)\n",
    "\n",
    "SEQUENCE = pd.concat(TEMP_DATA, ignore_index=True)\n",
    "print(SEQUENCE)"
   ]
  },
  {
   "cell_type": "code",
   "execution_count": null,
   "metadata": {},
   "outputs": [],
   "source": [
    "driver.quit()"
   ]
  }
 ],
 "metadata": {
  "kernelspec": {
   "display_name": "myenv",
   "language": "python",
   "name": "python3"
  },
  "language_info": {
   "codemirror_mode": {
    "name": "ipython",
    "version": 3
   },
   "file_extension": ".py",
   "mimetype": "text/x-python",
   "name": "python",
   "nbconvert_exporter": "python",
   "pygments_lexer": "ipython3",
   "version": "3.8.18"
  }
 },
 "nbformat": 4,
 "nbformat_minor": 2
}
